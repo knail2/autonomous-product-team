{
 "cells": [
  {
   "cell_type": "markdown",
   "id": "3127e27e",
   "metadata": {
    "toc": true
   },
   "source": [
    "<h1>Table of Contents<span class=\"tocSkip\"></span></h1>\n",
    "<div class=\"toc\"><ul class=\"toc-item\"><li><span><a href=\"#effective-pandas-(matt-harrison)\" data-toc-modified-id=\"effective-pandas-(matt-harrison)-1\"><span class=\"toc-item-num\">1&nbsp;&nbsp;</span>effective pandas (matt harrison)</a></span><ul class=\"toc-item\"><li><span><a href=\"#Chapter-5---Series-Introduction\" data-toc-modified-id=\"Chapter-5---Series-Introduction-1.1\"><span class=\"toc-item-num\">1.1&nbsp;&nbsp;</span>Chapter 5 - Series Introduction</a></span><ul class=\"toc-item\"><li><span><a href=\"#masks\" data-toc-modified-id=\"masks-1.1.1\"><span class=\"toc-item-num\">1.1.1&nbsp;&nbsp;</span>masks</a></span></li><li><span><a href=\"#categorical-data\" data-toc-modified-id=\"categorical-data-1.1.2\"><span class=\"toc-item-num\">1.1.2&nbsp;&nbsp;</span>categorical data</a></span></li></ul></li><li><span><a href=\"#Chapter-6---Series-Deep-dive\" data-toc-modified-id=\"Chapter-6---Series-Deep-dive-1.2\"><span class=\"toc-item-num\">1.2&nbsp;&nbsp;</span>Chapter 6 - Series Deep dive</a></span><ul class=\"toc-item\"><li><span><a href=\"#misc-eda-on-series\" data-toc-modified-id=\"misc-eda-on-series-1.2.1\"><span class=\"toc-item-num\">1.2.1&nbsp;&nbsp;</span>misc eda on series</a></span></li><li><span><a href=\"#chaining\" data-toc-modified-id=\"chaining-1.2.2\"><span class=\"toc-item-num\">1.2.2&nbsp;&nbsp;</span>chaining</a></span></li><li><span><a href=\"#aggregate-methods\" data-toc-modified-id=\"aggregate-methods-1.2.3\"><span class=\"toc-item-num\">1.2.3&nbsp;&nbsp;</span>aggregate methods</a></span><ul class=\"toc-item\"><li><span><a href=\"#chaining-aggregate--methods-&amp;-count/percentage-trick\" data-toc-modified-id=\"chaining-aggregate--methods-&amp;-count/percentage-trick-1.2.3.1\"><span class=\"toc-item-num\">1.2.3.1&nbsp;&nbsp;</span>chaining aggregate  methods &amp; count/percentage trick</a></span></li><li><span><a href=\"#using-.agg-to-do-multiple-aggs\" data-toc-modified-id=\"using-.agg-to-do-multiple-aggs-1.2.3.2\"><span class=\"toc-item-num\">1.2.3.2&nbsp;&nbsp;</span>using .agg to do multiple aggs</a></span></li></ul></li><li><span><a href=\"#checking-for,-and-converting,-types-in-a-column\" data-toc-modified-id=\"checking-for,-and-converting,-types-in-a-column-1.2.4\"><span class=\"toc-item-num\">1.2.4&nbsp;&nbsp;</span>checking for, and converting, types in a column</a></span></li></ul></li><li><span><a href=\"#Manipulation-Methods\" data-toc-modified-id=\"Manipulation-Methods-1.3\"><span class=\"toc-item-num\">1.3&nbsp;&nbsp;</span>Manipulation Methods</a></span></li><li><span><a href=\"#Eclectic-things-from-the-book\" data-toc-modified-id=\"Eclectic-things-from-the-book-1.4\"><span class=\"toc-item-num\">1.4&nbsp;&nbsp;</span>Eclectic things from the book</a></span></li><li><span><a href=\"#creating-and-updating-a-column\" data-toc-modified-id=\"creating-and-updating-a-column-1.5\"><span class=\"toc-item-num\">1.5&nbsp;&nbsp;</span>creating and updating a column</a></span></li></ul></li></ul></div>"
   ]
  },
  {
   "cell_type": "markdown",
   "id": "eb0c0233",
   "metadata": {
    "cell_style": "center",
    "solution": "hidden"
   },
   "source": [
    "# effective pandas (matt harrison)"
   ]
  },
  {
   "cell_type": "markdown",
   "id": "08820245",
   "metadata": {
    "solution": "shown",
    "solution_first": true
   },
   "source": [
    "## Chapter 5 - Series Introduction"
   ]
  },
  {
   "cell_type": "code",
   "execution_count": 1,
   "id": "0d1dd07a",
   "metadata": {
    "ExecuteTime": {
     "end_time": "2023-05-27T03:50:51.882531Z",
     "start_time": "2023-05-27T03:50:49.867713Z"
    },
    "cell_style": "center",
    "code_folding": [],
    "run_control": {
     "marked": false
    },
    "solution": "hidden",
    "solution2": "hidden",
    "solution2_first": true,
    "solution_first": true
   },
   "outputs": [],
   "source": [
    "# test notebook : 2022-12-26 20:01:22\n",
    "from yapf.yapflib.yapf_api import FormatCode\n",
    "import pandas as pd\n",
    "import numpy as np\n",
    "from icecream import ic"
   ]
  },
  {
   "cell_type": "markdown",
   "id": "8f44b426",
   "metadata": {
    "solution": "hidden",
    "solution_first": true
   },
   "source": [
    "### masks\n",
    "useful for filtering\n",
    "numpy can do similar filtering as pandas"
   ]
  },
  {
   "cell_type": "code",
   "execution_count": 2,
   "id": "18a4cb22",
   "metadata": {
    "ExecuteTime": {
     "end_time": "2023-05-27T03:50:51.886374Z",
     "start_time": "2023-05-27T03:50:51.883852Z"
    },
    "cell_style": "center",
    "code_folding": [],
    "run_control": {
     "marked": false
    },
    "solution": "hidden"
   },
   "outputs": [
    {
     "name": "stdout",
     "output_type": "stream",
     "text": [
      "age_mask : <BooleanArray>\n",
      "[True, True, False, False, False]\n",
      "Length: 5, dtype: boolean\n",
      "ages above 40: <IntegerArray>\n",
      "[42, 45]\n",
      "Length: 2, dtype: Int64\n"
     ]
    }
   ],
   "source": [
    "# boolean masks in pandas:\n",
    "ages = [42, 45, 17, 14, 9]\n",
    "pandas_series = pd.array(ages)\n",
    "\n",
    "# numpy_series.mean()\n",
    "age_mask = pandas_series > 40\n",
    "print(\"age_mask : {}\".format(age_mask))\n",
    "\n",
    "# applying mask:\n",
    "print(\"ages above 40: {}\".format(pandas_series[age_mask]))"
   ]
  },
  {
   "cell_type": "markdown",
   "id": "1b26feca",
   "metadata": {},
   "source": [
    "### categorical data\n",
    "benefits:\n",
    "\n",
    "- Use less memory than strings\n",
    "- Improve performance\n",
    "- Can have an ordering\n",
    "- Can perform operations on categories <--- this!!!\n",
    "- Enforce membership on values”"
   ]
  },
  {
   "cell_type": "code",
   "execution_count": 3,
   "id": "613d9a55",
   "metadata": {
    "ExecuteTime": {
     "end_time": "2023-05-27T03:50:51.965427Z",
     "start_time": "2023-05-27T03:50:51.887219Z"
    },
    "run_control": {
     "marked": false
    }
   },
   "outputs": [
    {
     "name": "stderr",
     "output_type": "stream",
     "text": [
      "ic| pant_sizes_strings: 0     m\n",
      "                        1     l\n",
      "                        2    xs\n",
      "                        3     s\n",
      "                        4    xl\n",
      "                        dtype: object\n",
      "ic| pant_sizes_new_category: 0     m\n",
      "                             1     l\n",
      "                             2    xs\n",
      "                             3     s\n",
      "                             4    xl\n",
      "                             dtype: category\n",
      "                             Categories (5, object): ['xs' < 's' < 'm' < 'l' < 'xl']\n"
     ]
    },
    {
     "data": {
      "text/plain": [
       "0     m\n",
       "1     l\n",
       "2    xs\n",
       "3     s\n",
       "4    xl\n",
       "dtype: category\n",
       "Categories (5, object): ['xs' < 's' < 'm' < 'l' < 'xl']"
      ]
     },
     "execution_count": 3,
     "metadata": {},
     "output_type": "execute_result"
    }
   ],
   "source": [
    "# creating data which is categorized:\n",
    "pant_sizes_category = pd.Series(['m', 'l', 'xs', 's', 'xl'], dtype='category')\n",
    "# pant_sizes.cat.ordered\n",
    "\n",
    "# more common: if we have data and we want to convert it to categories:\n",
    "# say data:\n",
    "pant_sizes_strings = pd.Series(['m', 'l', 'xs', 's', 'xl'])\n",
    "ic(pant_sizes_strings)\n",
    "# first we create our OWN type of the ordered categories:\n",
    "size_type = pd.api.types.CategoricalDtype(\n",
    "    categories=['xs', 's', 'm', 'l', 'xl'], ordered=True)\n",
    "\n",
    "# then we apply it to the data.\n",
    "pant_sizes_new_category = pant_sizes_strings.astype(size_type)\n",
    "ic(pant_sizes_new_category)"
   ]
  },
  {
   "cell_type": "code",
   "execution_count": 4,
   "id": "5a16b686",
   "metadata": {
    "ExecuteTime": {
     "end_time": "2023-05-27T03:50:51.968956Z",
     "start_time": "2023-05-27T03:50:51.966621Z"
    },
    "run_control": {
     "marked": false
    }
   },
   "outputs": [
    {
     "data": {
      "text/plain": [
       "0     m\n",
       "1     l\n",
       "3     s\n",
       "4    xl\n",
       "dtype: category\n",
       "Categories (5, object): ['xs' < 's' < 'm' < 'l' < 'xl']"
      ]
     },
     "execution_count": 4,
     "metadata": {},
     "output_type": "execute_result"
    }
   ],
   "source": [
    "#filtering in a categorical series:\n",
    "pant_sizes_new_category[pant_sizes_new_category >= 's']"
   ]
  },
  {
   "cell_type": "markdown",
   "id": "60e40994",
   "metadata": {},
   "source": [
    "## Chapter 6 - Series Deep dive"
   ]
  },
  {
   "cell_type": "code",
   "execution_count": 5,
   "id": "a91519a4",
   "metadata": {
    "ExecuteTime": {
     "end_time": "2023-05-27T03:50:53.383209Z",
     "start_time": "2023-05-27T03:50:51.969572Z"
    }
   },
   "outputs": [
    {
     "name": "stderr",
     "output_type": "stream",
     "text": [
      "/var/folders/z9/jt4cn2td0gn40p7sh34cbzg80000gn/T/ipykernel_6394/7284540.py:6: DtypeWarning: Columns (68,70,71,72,73,74,76,79) have mixed types. Specify dtype option on import or set low_memory=False.\n",
      "  df = pd.read_csv(url)\n"
     ]
    }
   ],
   "source": [
    "import pandas as pd\n",
    "# to avoid the CERT error:\n",
    "import ssl\n",
    "ssl._create_default_https_context = ssl._create_unverified_context\n",
    "url = 'https://github.com/mattharrison/datasets/raw/master/data/vehicles.csv.zip'\n",
    "df = pd.read_csv(url)\n",
    "city_mpg = df.city08\n",
    "highway_mpg = df.highway08\n"
   ]
  },
  {
   "cell_type": "markdown",
   "id": "f9c23cd5",
   "metadata": {},
   "source": [
    "### misc eda on series"
   ]
  },
  {
   "cell_type": "code",
   "execution_count": 6,
   "id": "25e4ecc9",
   "metadata": {
    "ExecuteTime": {
     "end_time": "2023-05-27T03:50:53.386395Z",
     "start_time": "2023-05-27T03:50:53.383957Z"
    }
   },
   "outputs": [
    {
     "name": "stdout",
     "output_type": "stream",
     "text": [
      "number of methods on the city_mpg object: 420\n"
     ]
    }
   ],
   "source": [
    "\n",
    "# dunder methods are .__add__ etc. and standard methods such as add extend them\n",
    "city_mpg.__add__(highway_mpg)\n",
    "#vs\n",
    "city_mpg.add(highway_mpg, fill_value=0) # will use 0 for the cells where the indices dont align to the other series\n",
    "\n",
    "# dir(city_mpg) lists the attributes of an object\n",
    "print(\"number of methods on the city_mpg object: {}\".format(len(dir(city_mpg))))\n"
   ]
  },
  {
   "cell_type": "markdown",
   "id": "2c55a7d1",
   "metadata": {},
   "source": [
    "### chaining\n",
    "\n",
    "Basically, tack on the methods to the output of the last call (which is also an object) for legibility and not using middle variables"
   ]
  },
  {
   "cell_type": "code",
   "execution_count": 7,
   "id": "7f14d636",
   "metadata": {
    "ExecuteTime": {
     "end_time": "2023-05-27T03:50:53.403396Z",
     "start_time": "2023-05-27T03:50:53.387026Z"
    }
   },
   "outputs": [
    {
     "name": "stderr",
     "output_type": "stream",
     "text": [
      "ic| final1.head(2): 0    87306.131074\n",
      "                    1    10067.022154\n",
      "                    dtype: float64\n",
      "ic| final2.head(2): 0    87306.131074\n",
      "                    1    10067.022154\n",
      "                    dtype: float64\n"
     ]
    },
    {
     "name": "stdout",
     "output_type": "stream",
     "text": [
      "both series are equal\n"
     ]
    },
    {
     "data": {
      "text/plain": [
       "0    87306.131074\n",
       "1    10067.022154\n",
       "dtype: float64"
      ]
     },
     "execution_count": 7,
     "metadata": {},
     "output_type": "execute_result"
    }
   ],
   "source": [
    "#bad way:\n",
    "temp1 = city_mpg.add(highway_mpg)\n",
    "temp2 = temp1.pow(3.33)\n",
    "temp3 = temp2/2\n",
    "final1 = temp3.mul(0.588)\n",
    "\n",
    "#chaining way:\n",
    "final2 = ((city_mpg\n",
    "           .add(highway_mpg)\n",
    "           .pow(3.33)\n",
    "           /2)\n",
    "           .mul(0.588)\n",
    "         )\n",
    "\n",
    "if final1.eq(final2).all:\n",
    "    print(\"both series are equal\")\n",
    "else:\n",
    "    print(\"series not equal!\")\n",
    "    \n",
    "    \n",
    "ic(final1.head(2))\n",
    "ic(final2.head(2))\n",
    "           "
   ]
  },
  {
   "cell_type": "markdown",
   "id": "e3e8280c",
   "metadata": {},
   "source": [
    "### aggregate methods\n",
    "\n",
    "- sum, count, etc\n",
    "- collapse the series to a scalar\n",
    "- important for managers/decision makes, to find trends in the data..\n",
    "- we also jump ahead and show a hist plot.. its good to look at the the shape of the data upfront to derive surface insights\n",
    "\n",
    "    **Exploring how the data feels like:** Here are some useful ones when exploring the shape and getting a feel of the data:"
   ]
  },
  {
   "cell_type": "code",
   "execution_count": 8,
   "id": "93cba715",
   "metadata": {
    "ExecuteTime": {
     "end_time": "2023-05-27T03:50:54.129057Z",
     "start_time": "2023-05-27T03:50:53.404052Z"
    }
   },
   "outputs": [
    {
     "name": "stderr",
     "output_type": "stream",
     "text": [
      "ic| city_mpg.mean(): 18.369045304297103\n",
      "ic| city_mpg.median(): 17.0\n",
      "ic| city_mpg.std(): 7.9058861707373005\n",
      "ic| city_mpg.min(): 6\n",
      "ic| city_mpg.max(): 150\n",
      "ic| city_mpg.quantile(0.95): 27.0\n",
      "ic| city_mpg.corr(highway_mpg): 0.9393654130640561\n",
      "ic| normal_dist.skew(): -0.037784481721189686\n",
      "ic| right_tail.skew(): 1.4215949099309269\n",
      "ic| city_mpg.agg(func='hasnans'): False\n",
      "ic| city_mpg.is_monotonic_increasing: False\n"
     ]
    },
    {
     "name": "stdout",
     "output_type": "stream",
     "text": [
      "total readings in city_mpg: 41144, unique ones: 105\n"
     ]
    },
    {
     "data": {
      "image/png": "[encoded data removed]",
      "text/plain": [
       "<Figure size 640x480 with 1 Axes>"
      ]
     },
     "metadata": {},
     "output_type": "display_data"
    }
   ],
   "source": [
    "#standard stats methods are mean, standard dev, corr, min, max \n",
    "ic(city_mpg.mean())\n",
    "ic(city_mpg.median())\n",
    "ic(city_mpg.std())\n",
    "ic(city_mpg.min())\n",
    "ic(city_mpg.max())\n",
    "ic(city_mpg.quantile(0.95))\n",
    "ic(city_mpg.corr(highway_mpg)) # this is a garbage run, typically you would \n",
    "# stack up sorted or uniquely indexed data and then run the corr to see \n",
    "#if the two data points are corellated. e.g. tenure of employee vs employee attrition risk\n",
    "\n",
    "#kurtosis is how much of the data is symmetrical around the middle\n",
    "normal_dist = pd.Series(np.random.normal(0,1,1000))\n",
    "ic(normal_dist.skew()) # this will be really small (almost zero) since for a normal distribution the \n",
    "#data is centered around the mean.\n",
    "#now, lets draw a right tailed dist: (long right tail)\n",
    "right_tail = pd.Series(np.random.gumbel(0, 0.1, 1000))\n",
    "ic(right_tail.skew()) # this will be positive val: \n",
    "# distribution is a type of distribution in which most values are \n",
    "# clustered around the left tail of the distribution while the\n",
    "# right tail of the distribution is longer\n",
    "right_tail.plot(bins=100, kind=\"hist\", title=\"right tailed skew {}\".format(right_tail.skew()))\n",
    "\n",
    "\n",
    "#data shape and holes etc \n",
    "\n",
    "#how many gaps does the data have nans = not a numbers?\n",
    "ic(city_mpg.agg(func='hasnans'))\n",
    "\n",
    "\n",
    "#is it increasing or decreasing monotonically (could be good for date)\n",
    "ic(city_mpg.is_monotonic_increasing)\n",
    "\n",
    "#how many are unique vs how many total?\n",
    "print(\"total readings in city_mpg: {}, unique ones: {}\"\n",
    "      .format(city_mpg.count(), city_mpg.nunique()))\n"
   ]
  },
  {
   "cell_type": "markdown",
   "id": "fc5e0502",
   "metadata": {
    "heading_collapsed": true
   },
   "source": [
    "#### chaining aggregate  methods & count/percentage trick\n",
    "\n",
    "- this will show simple examples on how methods including agg methods can be chained\n",
    "- also the trick around doing a **count** that when you do a sum() on a boolean output series it counts all the Trues as 1s, so its a cool way of doing a count.\n",
    "- the trick around a **percentage** is that when you do a mean() on a boolean output it calculates a percentage of the true (1) over the full # of values, so 1,1,0,0,1 is 3/5 = 60%\n"
   ]
  },
  {
   "cell_type": "code",
   "execution_count": 9,
   "id": "13b333e5",
   "metadata": {
    "ExecuteTime": {
     "end_time": "2023-05-27T03:50:54.142847Z",
     "start_time": "2023-05-27T03:50:54.129717Z"
    },
    "hidden": true
   },
   "outputs": [
    {
     "name": "stderr",
     "output_type": "stream",
     "text": [
      "ic| pct_cars_with_gas_mileage_gt_25mpg: 7.230701924946529\n",
      "ic| num_cars_with_gas_mileage_gt_25mpg: 2975\n"
     ]
    },
    {
     "data": {
      "text/plain": [
       "2975"
      ]
     },
     "execution_count": 9,
     "metadata": {},
     "output_type": "execute_result"
    }
   ],
   "source": [
    "pct_cars_with_gas_mileage_gt_25mpg = (city_mpg\n",
    ".gt(25)\n",
    ".mul(100)\n",
    ".mean())\n",
    "ic(pct_cars_with_gas_mileage_gt_25mpg)\n",
    "\n",
    "num_cars_with_gas_mileage_gt_25mpg = (city_mpg\n",
    "                                     .gt(25)\n",
    "                                     .sum())\n",
    "ic(num_cars_with_gas_mileage_gt_25mpg)"
   ]
  },
  {
   "cell_type": "markdown",
   "id": "8001ef65",
   "metadata": {},
   "source": [
    "#### using .agg to do multiple aggs\n",
    "\n",
    "- series.agg(...) can run multiple aggregations and print them all out\n",
    "- agg allows you to use non pandas (and even your own) agg method\n",
    "\n"
   ]
  },
  {
   "cell_type": "code",
   "execution_count": 10,
   "id": "a56c8d36",
   "metadata": {
    "ExecuteTime": {
     "end_time": "2023-05-27T03:50:54.280883Z",
     "start_time": "2023-05-27T03:50:54.146565Z"
    }
   },
   "outputs": [
    {
     "name": "stderr",
     "output_type": "stream",
     "text": [
      "ic| city_mpg.agg(['mean',np.var,'skew']): mean    18.369045\n",
      "                                          var     62.503036\n",
      "                                          skew     7.705198\n",
      "                                          Name: city08, dtype: float64\n"
     ]
    },
    {
     "data": {
      "text/plain": [
       "<AxesSubplot: ylabel='Frequency'>"
      ]
     },
     "execution_count": 10,
     "metadata": {},
     "output_type": "execute_result"
    },
    {
     "data": {
      "image/png": "[encoded data removed]",
      "text/plain": [
       "<Figure size 640x480 with 1 Axes>"
      ]
     },
     "metadata": {},
     "output_type": "display_data"
    }
   ],
   "source": [
    "ic(city_mpg.agg(['mean',np.var,'skew']))\n",
    "\n",
    "# note , a positive skew means its a right tailed dist. that makes sense \n",
    "# since more cars would have lower mileage and very few (expensive/uniqye) would have\n",
    "# high mileage\n",
    "\n",
    "city_mpg.plot.hist(bins=100)"
   ]
  },
  {
   "cell_type": "markdown",
   "id": "c053ce52",
   "metadata": {},
   "source": [
    "### checking for, and converting, types in a column\n",
    "\n",
    "- when you import say numerical data in a column (e.g. years in tenure), you dont want that to be casted as a weird type, otherwise you wont be able to do manipulation on it\n",
    "- while pandas should automatically assess the type, you can force it too\n"
   ]
  },
  {
   "cell_type": "code",
   "execution_count": 11,
   "id": "04cc0337",
   "metadata": {
    "ExecuteTime": {
     "end_time": "2023-05-27T03:50:54.285060Z",
     "start_time": "2023-05-27T03:50:54.282032Z"
    }
   },
   "outputs": [
    {
     "data": {
      "text/plain": [
       "0        19\n",
       "1         9\n",
       "2        23\n",
       "3        10\n",
       "4        17\n",
       "         ..\n",
       "41139    19\n",
       "41140    20\n",
       "41141    18\n",
       "41142    18\n",
       "41143    16\n",
       "Name: city08, Length: 41144, dtype: int64"
      ]
     },
     "execution_count": 11,
     "metadata": {},
     "output_type": "execute_result"
    }
   ],
   "source": [
    "city_mpg"
   ]
  },
  {
   "cell_type": "markdown",
   "id": "c67140be",
   "metadata": {},
   "source": [
    "- note the dtype of int64 above for city_mpg. nice and clean.... and unrealistic\n",
    "\n",
    "now let's take a row with dirty data"
   ]
  },
  {
   "cell_type": "code",
   "execution_count": 12,
   "id": "346f67b8",
   "metadata": {
    "ExecuteTime": {
     "end_time": "2023-05-27T03:50:54.298898Z",
     "start_time": "2023-05-27T03:50:54.285884Z"
    }
   },
   "outputs": [
    {
     "name": "stderr",
     "output_type": "stream",
     "text": [
      "ic| dirty_data_tenure.agg(['hasnans']): hasnans    False\n",
      "                                        dtype: bool\n"
     ]
    },
    {
     "data": {
      "text/plain": [
       "0          5\n",
       "1        2.4\n",
       "2    3.4 yrs\n",
       "3        8.9\n",
       "4       5.1y\n",
       "dtype: object"
      ]
     },
     "execution_count": 12,
     "metadata": {},
     "output_type": "execute_result"
    }
   ],
   "source": [
    "dirty_data_tenure = pd.Series([5,2.4,\"3.4 yrs\", 8.9, '5.1y'])\n",
    "ic(dirty_data_tenure.agg(['hasnans']))\n",
    "dirty_data_tenure"
   ]
  },
  {
   "cell_type": "markdown",
   "id": "41d8a7a6",
   "metadata": {},
   "source": [
    "- the dtype is object which should give you a clue that pandas sees some non integer values in here (if you can't easily inspect the data, say because it has 10000 values and they dont print nicely like the `dirty_data_tenure` above):\n",
    "- another clue is hasnans aggregate method (has not a numbers)\n",
    "\n",
    "here's how you can identify the non real number values:\n",
    "(the ~ is the inverter I guess)\n"
   ]
  },
  {
   "cell_type": "code",
   "execution_count": 13,
   "id": "82bfeeaa",
   "metadata": {
    "ExecuteTime": {
     "end_time": "2023-05-27T03:50:54.322054Z",
     "start_time": "2023-05-27T03:50:54.300373Z"
    }
   },
   "outputs": [
    {
     "name": "stderr",
     "output_type": "stream",
     "text": [
      "ic| dirty_data_tenure[~dirty_data_tenure.agg([np.isreal]).all(1)]: 2    3.4 yrs\n",
      "                                                                   4       5.1y\n",
      "                                                                   dtype: object\n"
     ]
    },
    {
     "data": {
      "text/plain": [
       "2    3.4 yrs\n",
       "4       5.1y\n",
       "dtype: object"
      ]
     },
     "execution_count": 13,
     "metadata": {},
     "output_type": "execute_result"
    }
   ],
   "source": [
    "ic(dirty_data_tenure[~dirty_data_tenure.agg([np.isreal]).all(1)])\n"
   ]
  },
  {
   "cell_type": "markdown",
   "id": "d4c8b373",
   "metadata": {},
   "source": [
    "- another trick to easily find where the data is not float is to try to to convert it!"
   ]
  },
  {
   "cell_type": "code",
   "execution_count": 14,
   "id": "1c23d132",
   "metadata": {
    "ExecuteTime": {
     "end_time": "2023-05-27T03:50:54.325390Z",
     "start_time": "2023-05-27T03:50:54.323307Z"
    }
   },
   "outputs": [
    {
     "name": "stdout",
     "output_type": "stream",
     "text": [
      "could not convert string to float: '3.4 yrs'\n"
     ]
    }
   ],
   "source": [
    "try:\n",
    "  dirty_data_tenure.astype('Float64')\n",
    "except Exception as e: \n",
    "    print(e)\n"
   ]
  },
  {
   "cell_type": "code",
   "execution_count": 15,
   "id": "cd94059c",
   "metadata": {
    "ExecuteTime": {
     "end_time": "2023-05-27T03:50:54.356528Z",
     "start_time": "2023-05-27T03:50:54.326827Z"
    }
   },
   "outputs": [
    {
     "name": "stderr",
     "output_type": "stream",
     "text": [
      "ic| city_mpg.dtype: dtype('int64')\n",
      "ic| city_mpg.memory_usage(): 329280\n",
      "ic| city_mpg\n",
      "    .astype('Int16')\n",
      "    .memory_usage(): 123560\n"
     ]
    },
    {
     "data": {
      "text/plain": [
       "123560"
      ]
     },
     "execution_count": 15,
     "metadata": {},
     "output_type": "execute_result"
    }
   ],
   "source": [
    "#how to check memory usage of a series and optimize it by changing the type\n",
    "ic(city_mpg.dtype)\n",
    "ic(city_mpg.memory_usage())\n",
    "ic(city_mpg\n",
    " .astype('Int16')\n",
    " .memory_usage())\n"
   ]
  },
  {
   "cell_type": "markdown",
   "id": "91454b2d",
   "metadata": {},
   "source": [
    "- converting string to categorical variables\n",
    "- makes the string series more efficient\n",
    "- you can make ordered categories as well (shown earlier in scratchpad)\n",
    "\n",
    "2022-12-29 21:22:28 "
   ]
  },
  {
   "cell_type": "code",
   "execution_count": 16,
   "id": "f2e2a0d0",
   "metadata": {
    "ExecuteTime": {
     "end_time": "2023-05-27T03:50:54.380346Z",
     "start_time": "2023-05-27T03:50:54.357545Z"
    }
   },
   "outputs": [
    {
     "name": "stderr",
     "output_type": "stream",
     "text": [
      "ic| city_mpg_str.memory_usage(): 329280\n",
      "ic| city_mpg_str_as_category.memory_usage(): 46280\n"
     ]
    },
    {
     "data": {
      "text/plain": [
       "46280"
      ]
     },
     "execution_count": 16,
     "metadata": {},
     "output_type": "execute_result"
    }
   ],
   "source": [
    "city_mpg_str = city_mpg.astype('str')\n",
    "ic(city_mpg_str.memory_usage())\n",
    "\n",
    "city_mpg_str_as_category = city_mpg_str.astype('category')\n",
    "ic(city_mpg_str_as_category.memory_usage())"
   ]
  },
  {
   "cell_type": "markdown",
   "id": "38f19ffa",
   "metadata": {},
   "source": [
    "## Manipulation Methods\n",
    "\n",
    "- summarizing data ( np.where(), np.select())\n",
    "- missing & interpolating data\n",
    "- sorting\n",
    "- removing duplicates (.drop() )\n",
    "- ranking data (.rank())\n",
    "- replacing data (.replace())\n",
    "- binning data (.cut, qcut) (but .plot allows you to specify bins for hist graphs)\n"
   ]
  },
  {
   "cell_type": "code",
   "execution_count": 17,
   "id": "8e05bae1",
   "metadata": {
    "ExecuteTime": {
     "end_time": "2023-05-27T03:50:54.383500Z",
     "start_time": "2023-05-27T03:50:54.381898Z"
    }
   },
   "outputs": [],
   "source": [
    "# code for manipulation here"
   ]
  },
  {
   "cell_type": "markdown",
   "id": "c2e18647",
   "metadata": {},
   "source": [
    "## Eclectic things from the book\n",
    "\n",
    "These are things that caught my eye in terms of relevance to TCM. I've leaved through the book and prioritized the chapters based on what I need to learn.\n",
    "\n",
    "**pandas foundational concepts**\n",
    "- (M) Dates in the index\n",
    "- (M) Indexing (b/c I know about it, so should whiz thru it)\n",
    "- (M) missing and duplicated data (should be fast)\n",
    "- (L) String (go fast thru it, check out regexp)\n",
    "- (L) math functions\n",
    "- (L) column types (.info() is useful)\n",
    "\n",
    "**data transformation**\n",
    "- interesting functions:\n",
    "    - .assign()\n",
    "    - .rolling()\n",
    "    - .query()\n",
    "    - .pivot_table(), groupby(), crosstab()\n",
    "    \n",
    "- (H) similarities with series and DF (tweak, heatmap seaborn)\n",
    "- (H) creating and updating column (bit complicated but important for EDA)\n",
    "- (H) filtering and indexing (.query())\n",
    "- (H) reshaping by pivoting and grouping (.pivot_table(), groupby(), crosstab())\n",
    "- (H) cross-tab deep dive\n",
    "- (H) melting, transposing and stacking data (tidydata concepts)\n",
    "- (M) looping and aggregation (shoudl be fast)\n",
    "- (M) working with time series (time filtering, rolling avg and plotting)\n",
    "- (M) joining dataframes (merge/concat/join methods)\n",
    "\n",
    "**data visualization**\n",
    "- (H) styling dataframes (coloring, sparklines, etc, stuff not that clear in tableau)\n",
    "- (H) plotting with DF\n",
    "- (M) plotting with series (fast, kde looks interesting)\n",
    "\n",
    "\n",
    "**advanced topics**\n",
    "- (M) reshaping using dummy columns (complicated, mostly doing categorical for numeric)\n",
    "- (L) debugging pandas (a little advanced, but some good ideas for when I have to teach and look at other peoples data)\n",
    "- (L) more aggegrations (more complex, transform, filter operations)\n",
    "\n",
    "\n",
    "\n"
   ]
  },
  {
   "cell_type": "code",
   "execution_count": 18,
   "id": "f5394692",
   "metadata": {
    "ExecuteTime": {
     "end_time": "2023-05-27T03:51:03.777400Z",
     "start_time": "2023-05-27T03:50:54.384789Z"
    }
   },
   "outputs": [
    {
     "name": "stderr",
     "output_type": "stream",
     "text": [
      "/var/folders/z9/jt4cn2td0gn40p7sh34cbzg80000gn/T/ipykernel_6394/3165285041.py:2: DtypeWarning: Columns (7) have mixed types. Specify dtype option on import or set low_memory=False.\n",
      "  df = pd.read_csv(url, skiprows=lambda num: num <34 or num == 35,\n"
     ]
    }
   ],
   "source": [
    "url = 'https://github.com/mattharrison/datasets/raw/master/data/dirtydevil.txt'\n",
    "df = pd.read_csv(url, skiprows=lambda num: num <34 or num == 35,\n",
    "                 sep='\\t')\n",
    "\n",
    "def tweak_river(df_):\n",
    "    return (df_\n",
    " .assign(datetime=pd.to_datetime(df_.datetime))\n",
    " .rename(columns={'144166_00060': 'cfs',\n",
    "                  '144167_00065': 'gage_height'})\n",
    " .set_index('datetime')\n",
    ")\n",
    "\n",
    "#I'll come back to this code later"
   ]
  },
  {
   "cell_type": "markdown",
   "id": "9d2b141b",
   "metadata": {},
   "source": [
    "## creating and updating a column\n",
    "\n",
    "- the goal is to avoid the for loop for each row and use cool functions like assign and lambda.."
   ]
  },
  {
   "cell_type": "code",
   "execution_count": 19,
   "id": "87cb524d",
   "metadata": {
    "ExecuteTime": {
     "end_time": "2023-05-27T03:51:19.025496Z",
     "start_time": "2023-05-27T03:51:03.778132Z"
    }
   },
   "outputs": [
    {
     "name": "stderr",
     "output_type": "stream",
     "text": [
      "/var/folders/z9/jt4cn2td0gn40p7sh34cbzg80000gn/T/ipykernel_6394/2451077279.py:4: DtypeWarning: Columns (152) have mixed types. Specify dtype option on import or set low_memory=False.\n",
      "  jb = pd.read_csv(url)\n"
     ]
    },
    {
     "data": {
      "text/plain": [
       "Index(['is.python.main', 'other.lang.None', 'other.lang.Java',\n",
       "       'other.lang.JavaScript', 'other.lang.C/C++', 'other.lang.PHP',\n",
       "       'other.lang.C#', 'other.lang.Ruby', 'other.lang.Bash / Shell',\n",
       "       'other.lang.Objective-C',\n",
       "       ...\n",
       "       'job.role.Technical support', 'job.role.Data analyst',\n",
       "       'job.role.Business analyst', 'job.role.Team lead',\n",
       "       'job.role.Product manager', 'job.role.CIO / CEO / CTO',\n",
       "       'job.role.Systems analyst', 'job.role.Other', 'age', 'country.live'],\n",
       "      dtype='object', length=264)"
      ]
     },
     "execution_count": 19,
     "metadata": {},
     "output_type": "execute_result"
    }
   ],
   "source": [
    "import pandas as pd\n",
    "url = 'https://github.com/mattharrison/datasets/raw/master/data/'\\\n",
    "      '2020-jetbrains-python-survey.csv'\n",
    "jb = pd.read_csv(url)\n",
    "jb.columns"
   ]
  },
  {
   "cell_type": "code",
   "execution_count": 20,
   "id": "4cb137c5",
   "metadata": {
    "ExecuteTime": {
     "end_time": "2023-05-27T03:51:19.028743Z",
     "start_time": "2023-05-27T03:51:19.026150Z"
    }
   },
   "outputs": [
    {
     "data": {
      "text/plain": [
       "['age',\n",
       " 'are.you.datascientist',\n",
       " 'company.size',\n",
       " 'country.live',\n",
       " 'employment.status',\n",
       " 'first.learn.about.main.ide',\n",
       " 'how.often.use.main.ide',\n",
       " 'ide.main',\n",
       " 'is.python.main',\n",
       " 'job.team',\n",
       " 'main.purposes',\n",
       " 'missing.features.main.ide',\n",
       " 'nps.main.ide',\n",
       " 'python.years',\n",
       " 'python2.version.most',\n",
       " 'python3.version.most',\n",
       " 'several.projects',\n",
       " 'team.size',\n",
       " 'use.python.most',\n",
       " 'years.of.coding']"
      ]
     },
     "execution_count": 20,
     "metadata": {},
     "output_type": "execute_result"
    }
   ],
   "source": [
    "# cleaning columns\n",
    "\n",
    "import collections\n",
    "counter = collections.defaultdict(list)\n",
    "for col in sorted(jb.columns):\n",
    "    period_count = col.count('.')\n",
    "    if period_count >= 2:\n",
    "        part_end = 2\n",
    "    else:\n",
    "        part_end = 1\n",
    "    parts = col.split('.')[:part_end]\n",
    "    counter['.'.join(parts)].append(col)\n",
    "uniq_cols = []\n",
    "for cols in counter.values():\n",
    "    if len(cols) == 1:\n",
    "        uniq_cols.extend(cols)\n",
    "\n",
    "uniq_cols"
   ]
  },
  {
   "cell_type": "code",
   "execution_count": 21,
   "id": "58ee18e5",
   "metadata": {
    "ExecuteTime": {
     "end_time": "2023-05-27T03:51:19.045617Z",
     "start_time": "2023-05-27T03:51:19.029275Z"
    }
   },
   "outputs": [
    {
     "data": {
      "text/plain": [
       "NaN            29701\n",
       "21–29           9710\n",
       "30–39           7512\n",
       "40–49           3010\n",
       "18–20           2567\n",
       "50–59           1374\n",
       "60 or older      588\n",
       "Name: age, dtype: int64"
      ]
     },
     "execution_count": 21,
     "metadata": {},
     "output_type": "execute_result"
    }
   ],
   "source": [
    "(jb\n",
    " [uniq_cols]\n",
    " .rename(columns=lambda c: c.replace('.', '_'))\n",
    " .age\n",
    " .value_counts(dropna=False)\n",
    ")"
   ]
  },
  {
   "cell_type": "code",
   "execution_count": 22,
   "id": "19f5a955",
   "metadata": {
    "ExecuteTime": {
     "end_time": "2023-05-27T03:51:19.086989Z",
     "start_time": "2023-05-27T03:51:19.046319Z"
    }
   },
   "outputs": [
    {
     "data": {
      "text/html": [
       "<div>\n",
       "<style scoped>\n",
       "    .dataframe tbody tr th:only-of-type {\n",
       "        vertical-align: middle;\n",
       "    }\n",
       "\n",
       "    .dataframe tbody tr th {\n",
       "        vertical-align: top;\n",
       "    }\n",
       "\n",
       "    .dataframe thead th {\n",
       "        text-align: right;\n",
       "    }\n",
       "</style>\n",
       "<table border=\"1\" class=\"dataframe\">\n",
       "  <thead>\n",
       "    <tr style=\"text-align: right;\">\n",
       "      <th></th>\n",
       "      <th>age</th>\n",
       "      <th>are_you_datascientist</th>\n",
       "      <th>company_size</th>\n",
       "      <th>country_live</th>\n",
       "      <th>employment_status</th>\n",
       "      <th>first_learn_about_main_ide</th>\n",
       "      <th>how_often_use_main_ide</th>\n",
       "      <th>ide_main</th>\n",
       "      <th>is_python_main</th>\n",
       "      <th>job_team</th>\n",
       "      <th>main_purposes</th>\n",
       "      <th>missing_features_main_ide</th>\n",
       "      <th>nps_main_ide</th>\n",
       "      <th>python_years</th>\n",
       "      <th>python2_version_most</th>\n",
       "      <th>python3_version_most</th>\n",
       "      <th>several_projects</th>\n",
       "      <th>team_size</th>\n",
       "      <th>use_python_most</th>\n",
       "      <th>years_of_coding</th>\n",
       "    </tr>\n",
       "  </thead>\n",
       "  <tbody>\n",
       "    <tr>\n",
       "      <th>0</th>\n",
       "      <td>30</td>\n",
       "      <td>NaN</td>\n",
       "      <td>Just me</td>\n",
       "      <td>NaN</td>\n",
       "      <td>Partially employed by a company / organization</td>\n",
       "      <td>Conference / User Group</td>\n",
       "      <td>Weekly</td>\n",
       "      <td>PyCharm Community Edition</td>\n",
       "      <td>Yes</td>\n",
       "      <td>Work as an external consultant or trainer</td>\n",
       "      <td>For work</td>\n",
       "      <td>No, it has all the features I need</td>\n",
       "      <td>3.0</td>\n",
       "      <td>3–5 years</td>\n",
       "      <td>NaN</td>\n",
       "      <td>Python 3_7</td>\n",
       "      <td>Yes, I work on many different projects</td>\n",
       "      <td>NaN</td>\n",
       "      <td>NaN</td>\n",
       "      <td>1–2 years</td>\n",
       "    </tr>\n",
       "    <tr>\n",
       "      <th>1</th>\n",
       "      <td>21</td>\n",
       "      <td>Yes</td>\n",
       "      <td>More than 5,000</td>\n",
       "      <td>India</td>\n",
       "      <td>Fully employed by a company / organization</td>\n",
       "      <td>School / University</td>\n",
       "      <td>Daily</td>\n",
       "      <td>VS Code</td>\n",
       "      <td>Yes</td>\n",
       "      <td>Work in a team</td>\n",
       "      <td>Both for work and personal</td>\n",
       "      <td>No, it has all the features I need</td>\n",
       "      <td>8.0</td>\n",
       "      <td>3–5 years</td>\n",
       "      <td>NaN</td>\n",
       "      <td>Python 3_6</td>\n",
       "      <td>Yes, I work on one main and several side projects</td>\n",
       "      <td>2-7 people</td>\n",
       "      <td>Software prototyping</td>\n",
       "      <td>3–5 years</td>\n",
       "    </tr>\n",
       "    <tr>\n",
       "      <th>2</th>\n",
       "      <td>30</td>\n",
       "      <td>No</td>\n",
       "      <td>More than 5,000</td>\n",
       "      <td>United States</td>\n",
       "      <td>Fully employed by a company / organization</td>\n",
       "      <td>Friend / Colleague</td>\n",
       "      <td>Daily</td>\n",
       "      <td>Vim</td>\n",
       "      <td>Yes</td>\n",
       "      <td>Work on your own project(s) independently</td>\n",
       "      <td>Both for work and personal</td>\n",
       "      <td>No, it has all the features I need</td>\n",
       "      <td>10.0</td>\n",
       "      <td>3–5 years</td>\n",
       "      <td>NaN</td>\n",
       "      <td>Python 3_6</td>\n",
       "      <td>Yes, I work on one main and several side projects</td>\n",
       "      <td>NaN</td>\n",
       "      <td>DevOps / System administration / Writing autom...</td>\n",
       "      <td>3–5 years</td>\n",
       "    </tr>\n",
       "    <tr>\n",
       "      <th>3</th>\n",
       "      <td>&lt;NA&gt;</td>\n",
       "      <td>NaN</td>\n",
       "      <td>NaN</td>\n",
       "      <td>NaN</td>\n",
       "      <td>NaN</td>\n",
       "      <td>Friend / Colleague</td>\n",
       "      <td>Daily</td>\n",
       "      <td>PyCharm Professional Edition</td>\n",
       "      <td>Yes</td>\n",
       "      <td>NaN</td>\n",
       "      <td>Both for work and personal</td>\n",
       "      <td>Yes – Please list:</td>\n",
       "      <td>10.0</td>\n",
       "      <td>11+ years</td>\n",
       "      <td>NaN</td>\n",
       "      <td>Python 3_8</td>\n",
       "      <td>Yes, I work on many different projects</td>\n",
       "      <td>NaN</td>\n",
       "      <td>Web development</td>\n",
       "      <td>11+ years</td>\n",
       "    </tr>\n",
       "    <tr>\n",
       "      <th>4</th>\n",
       "      <td>21</td>\n",
       "      <td>NaN</td>\n",
       "      <td>NaN</td>\n",
       "      <td>Italy</td>\n",
       "      <td>Student</td>\n",
       "      <td>Search engines</td>\n",
       "      <td>Daily</td>\n",
       "      <td>VS Code</td>\n",
       "      <td>Yes</td>\n",
       "      <td>Work on your own project(s) independently</td>\n",
       "      <td>For personal, educational  or side projects</td>\n",
       "      <td>No, it has all the features I need</td>\n",
       "      <td>10.0</td>\n",
       "      <td>1–2 years</td>\n",
       "      <td>NaN</td>\n",
       "      <td>Python 3_8</td>\n",
       "      <td>Yes, I work on one main and several side projects</td>\n",
       "      <td>NaN</td>\n",
       "      <td>Web development</td>\n",
       "      <td>Less than 1 year</td>\n",
       "    </tr>\n",
       "    <tr>\n",
       "      <th>...</th>\n",
       "      <td>...</td>\n",
       "      <td>...</td>\n",
       "      <td>...</td>\n",
       "      <td>...</td>\n",
       "      <td>...</td>\n",
       "      <td>...</td>\n",
       "      <td>...</td>\n",
       "      <td>...</td>\n",
       "      <td>...</td>\n",
       "      <td>...</td>\n",
       "      <td>...</td>\n",
       "      <td>...</td>\n",
       "      <td>...</td>\n",
       "      <td>...</td>\n",
       "      <td>...</td>\n",
       "      <td>...</td>\n",
       "      <td>...</td>\n",
       "      <td>...</td>\n",
       "      <td>...</td>\n",
       "      <td>...</td>\n",
       "    </tr>\n",
       "    <tr>\n",
       "      <th>54457</th>\n",
       "      <td>21</td>\n",
       "      <td>No</td>\n",
       "      <td>2–10</td>\n",
       "      <td>Russian Federation</td>\n",
       "      <td>Fully employed by a company / organization</td>\n",
       "      <td>School / University</td>\n",
       "      <td>Daily</td>\n",
       "      <td>Vim</td>\n",
       "      <td>Yes</td>\n",
       "      <td>Work on your own project(s) independently</td>\n",
       "      <td>Both for work and personal</td>\n",
       "      <td>No, it has all the features I need</td>\n",
       "      <td>10.0</td>\n",
       "      <td>6–10 years</td>\n",
       "      <td>NaN</td>\n",
       "      <td>Python 3_6</td>\n",
       "      <td>Yes, I work on many different projects</td>\n",
       "      <td>NaN</td>\n",
       "      <td>Data analysis</td>\n",
       "      <td>1–2 years</td>\n",
       "    </tr>\n",
       "    <tr>\n",
       "      <th>54458</th>\n",
       "      <td>&lt;NA&gt;</td>\n",
       "      <td>No</td>\n",
       "      <td>NaN</td>\n",
       "      <td>NaN</td>\n",
       "      <td>NaN</td>\n",
       "      <td>NaN</td>\n",
       "      <td>NaN</td>\n",
       "      <td>NaN</td>\n",
       "      <td>Yes</td>\n",
       "      <td>NaN</td>\n",
       "      <td>Both for work and personal</td>\n",
       "      <td>NaN</td>\n",
       "      <td>NaN</td>\n",
       "      <td>3–5 years</td>\n",
       "      <td>NaN</td>\n",
       "      <td>Python 3_7</td>\n",
       "      <td>NaN</td>\n",
       "      <td>NaN</td>\n",
       "      <td>Web development</td>\n",
       "      <td>1–2 years</td>\n",
       "    </tr>\n",
       "    <tr>\n",
       "      <th>54459</th>\n",
       "      <td>21</td>\n",
       "      <td>NaN</td>\n",
       "      <td>Just me</td>\n",
       "      <td>Russian Federation</td>\n",
       "      <td>Self-employed (a person earning income directl...</td>\n",
       "      <td>Friend / Colleague</td>\n",
       "      <td>Daily</td>\n",
       "      <td>PyCharm Professional Edition</td>\n",
       "      <td>Yes</td>\n",
       "      <td>Work in a team</td>\n",
       "      <td>Both for work and personal</td>\n",
       "      <td>No, it has all the features I need</td>\n",
       "      <td>10.0</td>\n",
       "      <td>3–5 years</td>\n",
       "      <td>NaN</td>\n",
       "      <td>Python 3_7</td>\n",
       "      <td>Yes, I work on many different projects</td>\n",
       "      <td>2-7 people</td>\n",
       "      <td>Web development</td>\n",
       "      <td>6–10 years</td>\n",
       "    </tr>\n",
       "    <tr>\n",
       "      <th>54460</th>\n",
       "      <td>30</td>\n",
       "      <td>Yes</td>\n",
       "      <td>51–500</td>\n",
       "      <td>Spain</td>\n",
       "      <td>Fully employed by a company / organization</td>\n",
       "      <td>Search engines</td>\n",
       "      <td>Daily</td>\n",
       "      <td>Other</td>\n",
       "      <td>Yes</td>\n",
       "      <td>Work on your own project(s) independently</td>\n",
       "      <td>Both for work and personal</td>\n",
       "      <td>Yes – Please list:</td>\n",
       "      <td>3.0</td>\n",
       "      <td>6–10 years</td>\n",
       "      <td>NaN</td>\n",
       "      <td>Python 3_7</td>\n",
       "      <td>Yes, I work on many different projects</td>\n",
       "      <td>NaN</td>\n",
       "      <td>Data analysis</td>\n",
       "      <td>3–5 years</td>\n",
       "    </tr>\n",
       "    <tr>\n",
       "      <th>54461</th>\n",
       "      <td>21</td>\n",
       "      <td>NaN</td>\n",
       "      <td>11–50</td>\n",
       "      <td>Algeria</td>\n",
       "      <td>Fully employed by a company / organization</td>\n",
       "      <td>Online learning platform / Online course</td>\n",
       "      <td>Daily</td>\n",
       "      <td>VS Code</td>\n",
       "      <td>Yes</td>\n",
       "      <td>Work in a team</td>\n",
       "      <td>Both for work and personal</td>\n",
       "      <td>No, it has all the features I need</td>\n",
       "      <td>10.0</td>\n",
       "      <td>1–2 years</td>\n",
       "      <td>NaN</td>\n",
       "      <td>Python 3_8</td>\n",
       "      <td>Yes, I work on many different projects</td>\n",
       "      <td>2-7 people</td>\n",
       "      <td>NaN</td>\n",
       "      <td>1–2 years</td>\n",
       "    </tr>\n",
       "  </tbody>\n",
       "</table>\n",
       "<p>54462 rows × 20 columns</p>\n",
       "</div>"
      ],
      "text/plain": [
       "        age are_you_datascientist     company_size        country_live  \\\n",
       "0        30                   NaN          Just me                 NaN   \n",
       "1        21                   Yes  More than 5,000               India   \n",
       "2        30                    No  More than 5,000       United States   \n",
       "3      <NA>                   NaN              NaN                 NaN   \n",
       "4        21                   NaN              NaN               Italy   \n",
       "...     ...                   ...              ...                 ...   \n",
       "54457    21                    No             2–10  Russian Federation   \n",
       "54458  <NA>                    No              NaN                 NaN   \n",
       "54459    21                   NaN          Just me  Russian Federation   \n",
       "54460    30                   Yes           51–500               Spain   \n",
       "54461    21                   NaN            11–50             Algeria   \n",
       "\n",
       "                                       employment_status  \\\n",
       "0         Partially employed by a company / organization   \n",
       "1             Fully employed by a company / organization   \n",
       "2             Fully employed by a company / organization   \n",
       "3                                                    NaN   \n",
       "4                                                Student   \n",
       "...                                                  ...   \n",
       "54457         Fully employed by a company / organization   \n",
       "54458                                                NaN   \n",
       "54459  Self-employed (a person earning income directl...   \n",
       "54460         Fully employed by a company / organization   \n",
       "54461         Fully employed by a company / organization   \n",
       "\n",
       "                      first_learn_about_main_ide how_often_use_main_ide  \\\n",
       "0                        Conference / User Group                 Weekly   \n",
       "1                            School / University                  Daily   \n",
       "2                             Friend / Colleague                  Daily   \n",
       "3                             Friend / Colleague                  Daily   \n",
       "4                                 Search engines                  Daily   \n",
       "...                                          ...                    ...   \n",
       "54457                        School / University                  Daily   \n",
       "54458                                        NaN                    NaN   \n",
       "54459                         Friend / Colleague                  Daily   \n",
       "54460                             Search engines                  Daily   \n",
       "54461   Online learning platform / Online course                  Daily   \n",
       "\n",
       "                           ide_main is_python_main  \\\n",
       "0         PyCharm Community Edition            Yes   \n",
       "1                           VS Code            Yes   \n",
       "2                               Vim            Yes   \n",
       "3      PyCharm Professional Edition            Yes   \n",
       "4                           VS Code            Yes   \n",
       "...                             ...            ...   \n",
       "54457                           Vim            Yes   \n",
       "54458                           NaN            Yes   \n",
       "54459  PyCharm Professional Edition            Yes   \n",
       "54460                         Other            Yes   \n",
       "54461                       VS Code            Yes   \n",
       "\n",
       "                                        job_team  \\\n",
       "0      Work as an external consultant or trainer   \n",
       "1                                 Work in a team   \n",
       "2      Work on your own project(s) independently   \n",
       "3                                            NaN   \n",
       "4      Work on your own project(s) independently   \n",
       "...                                          ...   \n",
       "54457  Work on your own project(s) independently   \n",
       "54458                                        NaN   \n",
       "54459                             Work in a team   \n",
       "54460  Work on your own project(s) independently   \n",
       "54461                             Work in a team   \n",
       "\n",
       "                                     main_purposes  \\\n",
       "0                                         For work   \n",
       "1                       Both for work and personal   \n",
       "2                       Both for work and personal   \n",
       "3                       Both for work and personal   \n",
       "4      For personal, educational  or side projects   \n",
       "...                                            ...   \n",
       "54457                   Both for work and personal   \n",
       "54458                   Both for work and personal   \n",
       "54459                   Both for work and personal   \n",
       "54460                   Both for work and personal   \n",
       "54461                   Both for work and personal   \n",
       "\n",
       "                missing_features_main_ide  nps_main_ide python_years  \\\n",
       "0      No, it has all the features I need           3.0    3–5 years   \n",
       "1      No, it has all the features I need           8.0    3–5 years   \n",
       "2      No, it has all the features I need          10.0    3–5 years   \n",
       "3                      Yes – Please list:          10.0    11+ years   \n",
       "4      No, it has all the features I need          10.0    1–2 years   \n",
       "...                                   ...           ...          ...   \n",
       "54457  No, it has all the features I need          10.0   6–10 years   \n",
       "54458                                 NaN           NaN    3–5 years   \n",
       "54459  No, it has all the features I need          10.0    3–5 years   \n",
       "54460                  Yes – Please list:           3.0   6–10 years   \n",
       "54461  No, it has all the features I need          10.0    1–2 years   \n",
       "\n",
       "      python2_version_most python3_version_most  \\\n",
       "0                      NaN           Python 3_7   \n",
       "1                      NaN           Python 3_6   \n",
       "2                      NaN           Python 3_6   \n",
       "3                      NaN           Python 3_8   \n",
       "4                      NaN           Python 3_8   \n",
       "...                    ...                  ...   \n",
       "54457                  NaN           Python 3_6   \n",
       "54458                  NaN           Python 3_7   \n",
       "54459                  NaN           Python 3_7   \n",
       "54460                  NaN           Python 3_7   \n",
       "54461                  NaN           Python 3_8   \n",
       "\n",
       "                                        several_projects   team_size  \\\n",
       "0                 Yes, I work on many different projects         NaN   \n",
       "1      Yes, I work on one main and several side projects  2-7 people   \n",
       "2      Yes, I work on one main and several side projects         NaN   \n",
       "3                 Yes, I work on many different projects         NaN   \n",
       "4      Yes, I work on one main and several side projects         NaN   \n",
       "...                                                  ...         ...   \n",
       "54457             Yes, I work on many different projects         NaN   \n",
       "54458                                                NaN         NaN   \n",
       "54459             Yes, I work on many different projects  2-7 people   \n",
       "54460             Yes, I work on many different projects         NaN   \n",
       "54461             Yes, I work on many different projects  2-7 people   \n",
       "\n",
       "                                         use_python_most   years_of_coding  \n",
       "0                                                    NaN         1–2 years  \n",
       "1                                   Software prototyping         3–5 years  \n",
       "2      DevOps / System administration / Writing autom...         3–5 years  \n",
       "3                                        Web development         11+ years  \n",
       "4                                        Web development  Less than 1 year  \n",
       "...                                                  ...               ...  \n",
       "54457                                      Data analysis         1–2 years  \n",
       "54458                                    Web development         1–2 years  \n",
       "54459                                    Web development        6–10 years  \n",
       "54460                                      Data analysis         3–5 years  \n",
       "54461                                                NaN         1–2 years  \n",
       "\n",
       "[54462 rows x 20 columns]"
      ]
     },
     "execution_count": 22,
     "metadata": {},
     "output_type": "execute_result"
    }
   ],
   "source": [
    "(jb\n",
    " [uniq_cols]\n",
    " .rename(columns=lambda c: c.replace('.', '_'))\n",
    " .assign(age=lambda df_:df_.age\n",
    "    .str.slice(0,2)\n",
    "    .astype(float)\n",
    "    .astype('Int64'))\n",
    ")"
   ]
  },
  {
   "cell_type": "code",
   "execution_count": null,
   "id": "bd55a6fa",
   "metadata": {},
   "outputs": [],
   "source": []
  }
 ],
 "metadata": {
  "kernelspec": {
   "display_name": "Python 3 (ipykernel)",
   "language": "python",
   "name": "python3"
  },
  "language_info": {
   "codemirror_mode": {
    "name": "ipython",
    "version": 3
   },
   "file_extension": ".py",
   "mimetype": "text/x-python",
   "name": "python",
   "nbconvert_exporter": "python",
   "pygments_lexer": "ipython3",
   "version": "3.11.1"
  },
  "toc": {
   "base_numbering": 1,
   "nav_menu": {},
   "number_sections": true,
   "sideBar": true,
   "skip_h1_title": false,
   "title_cell": "Table of Contents",
   "title_sidebar": "Contents",
   "toc_cell": true,
   "toc_position": {
    "height": "calc(100% - 180px)",
    "left": "10px",
    "top": "150px",
    "width": "185.391px"
   },
   "toc_section_display": true,
   "toc_window_display": false
  },
  "varInspector": {
   "cols": {
    "lenName": 16,
    "lenType": 16,
    "lenVar": 40
   },
   "kernels_config": {
    "python": {
     "delete_cmd_postfix": "",
     "delete_cmd_prefix": "del ",
     "library": "var_list.py",
     "varRefreshCmd": "print(var_dic_list())"
    },
    "r": {
     "delete_cmd_postfix": ") ",
     "delete_cmd_prefix": "rm(",
     "library": "var_list.r",
     "varRefreshCmd": "cat(var_dic_list()) "
    }
   },
   "oldHeight": 120.852,
   "position": {
    "height": "142.852px",
    "left": "395px",
    "right": "20px",
    "top": "271px",
    "width": "350px"
   },
   "types_to_exclude": [
    "module",
    "function",
    "builtin_function_or_method",
    "instance",
    "_Feature"
   ],
   "varInspector_section_display": "block",
   "window_display": false
  }
 },
 "nbformat": 4,
 "nbformat_minor": 5
}
